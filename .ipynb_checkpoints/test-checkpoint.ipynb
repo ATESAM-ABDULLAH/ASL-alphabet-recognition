{
 "cells": [
  {
   "cell_type": "code",
   "execution_count": 1,
   "id": "fc5f4866",
   "metadata": {},
   "outputs": [
    {
     "name": "stderr",
     "output_type": "stream",
     "text": [
      "2023-05-03 17:01:09.382551: I tensorflow/tsl/cuda/cudart_stub.cc:28] Could not find cuda drivers on your machine, GPU will not be used.\n",
      "2023-05-03 17:01:09.457856: I tensorflow/tsl/cuda/cudart_stub.cc:28] Could not find cuda drivers on your machine, GPU will not be used.\n",
      "2023-05-03 17:01:09.459090: I tensorflow/core/platform/cpu_feature_guard.cc:182] This TensorFlow binary is optimized to use available CPU instructions in performance-critical operations.\n",
      "To enable the following instructions: AVX2 FMA, in other operations, rebuild TensorFlow with the appropriate compiler flags.\n",
      "2023-05-03 17:01:10.685897: W tensorflow/compiler/tf2tensorrt/utils/py_utils.cc:38] TF-TRT Warning: Could not find TensorRT\n"
     ]
    }
   ],
   "source": [
    "import cv2\n",
    "import numpy as np\n",
    "from tensorflow import keras"
   ]
  },
  {
   "cell_type": "code",
   "execution_count": 4,
   "id": "ebd5a209",
   "metadata": {},
   "outputs": [],
   "source": [
    "model_dir = \"Saved_models/Modelv1_sm\"\n",
    "\n",
    "Mapping = {0: 'R', 1: 'Z', 2: 'nothing', 3: 'X', 4: 'D', 5: 'I', 6: 'E', 7: 'del', 8: 'O'\n",
    "           , 9: 'K', 10: 'Q', 11: 'B', 12: 'G', 13: 'J', 14: 'Y', 15: 'V', 16: 'M', 17: 'P'\n",
    "           , 18: 'A', 19: 'space', 20: 'H', 21: 'F', 22: 'T', 23: 'W', 24: 'S', 25: 'U', 26: 'C'\n",
    "           , 27: 'L', 28: 'N'}\n",
    "model = keras.models.load_model(model_dir)"
   ]
  },
  {
   "cell_type": "code",
   "execution_count": 14,
   "id": "fcde7e8a",
   "metadata": {},
   "outputs": [
    {
     "name": "stdout",
     "output_type": "stream",
     "text": [
      "1/1 [==============================] - 0s 24ms/step\n",
      "nothing 100.0\n"
     ]
    }
   ],
   "source": [
    "\n",
    "\n",
    "img = cv2.imread(img_dir)   #read image in folder->png image\n",
    "\n",
    "img = cv2.resize(img, (32,32))                #resize image \n",
    "\n",
    "np_X = np.array(img)                          #Convert to numpy array\n",
    "normalised_X = np_X.astype('float32')/255.0   #normalize numpy array\n",
    "normalised_X=np.expand_dims(normalised_X,0)   #add an extra dimension b/c model is trained on a (None,32,32,3) shape\n",
    "\n",
    "pred = model.predict(normalised_X)\n",
    "pred_index = np.argmax(pred)\n",
    "\n",
    "char = Mapping[pred_index]\n",
    "confidence = pred[0][pred_index]*100\n",
    "\n",
    "print(char,confidence)"
   ]
  },
  {
   "cell_type": "code",
   "execution_count": null,
   "id": "44913c0c",
   "metadata": {},
   "outputs": [],
   "source": [
    "model = keras.models.load_model(model_dir)\n",
    "\n",
    "def predict_img(img:'png'):\n",
    "    img = cv2.resize(img, (32,32))                #resize image \n",
    "\n",
    "    np_X = np.array(img)                          #Convert to numpy array\n",
    "    normalised_X = np_X.astype('float32')/255.0   #normalize numpy array\n",
    "    normalised_X=np.expand_dims(normalised_X,0)   #add an extra dimension b/c model is trained on a (None,32,32,3) shape\n",
    "    \n",
    "    pred = model.predict(normalised_X)\n",
    "    pred_index = np.argmax(pred)\n",
    "\n",
    "    char = Mapping[pred_index]\n",
    "    confidence = pred[0][pred_index]*100\n",
    "\n",
    "    return  char, confidence"
   ]
  },
  {
   "cell_type": "code",
   "execution_count": null,
   "id": "56779bfb",
   "metadata": {},
   "outputs": [],
   "source": [
    "img_dir = \"Data/asl_alphabet_test/nothing_test.jpg\"\n",
    "\n",
    "img = cv2.imread(img_dir)   #read image in folder->png image\n",
    "\n",
    "a,b = predict_img(img)      # Predict img\n",
    "\n",
    "print(a,b)"
   ]
  }
 ],
 "metadata": {
  "kernelspec": {
   "display_name": "Python 3 (ipykernel)",
   "language": "python",
   "name": "python3"
  },
  "language_info": {
   "codemirror_mode": {
    "name": "ipython",
    "version": 3
   },
   "file_extension": ".py",
   "mimetype": "text/x-python",
   "name": "python",
   "nbconvert_exporter": "python",
   "pygments_lexer": "ipython3",
   "version": "3.10.6"
  }
 },
 "nbformat": 4,
 "nbformat_minor": 5
}
