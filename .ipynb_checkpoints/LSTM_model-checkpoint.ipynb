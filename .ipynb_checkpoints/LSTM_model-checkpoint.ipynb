{
 "cells": [
  {
   "cell_type": "markdown",
   "id": "1ad65804",
   "metadata": {},
   "source": [
    "# 1. IMPORT PACKAGES "
   ]
  },
  {
   "cell_type": "code",
   "execution_count": 1,
   "id": "dbd2f38b",
   "metadata": {
    "scrolled": true
   },
   "outputs": [
    {
     "name": "stderr",
     "output_type": "stream",
     "text": [
      "2023-05-06 22:41:49.646876: I tensorflow/tsl/cuda/cudart_stub.cc:28] Could not find cuda drivers on your machine, GPU will not be used.\n",
      "2023-05-06 22:41:49.701801: I tensorflow/tsl/cuda/cudart_stub.cc:28] Could not find cuda drivers on your machine, GPU will not be used.\n",
      "2023-05-06 22:41:49.702615: I tensorflow/core/platform/cpu_feature_guard.cc:182] This TensorFlow binary is optimized to use available CPU instructions in performance-critical operations.\n",
      "To enable the following instructions: AVX2 FMA, in other operations, rebuild TensorFlow with the appropriate compiler flags.\n",
      "2023-05-06 22:41:50.661376: W tensorflow/compiler/tf2tensorrt/utils/py_utils.cc:38] TF-TRT Warning: Could not find TensorRT\n"
     ]
    }
   ],
   "source": [
    "# Load data\n",
    "import cv2\n",
    "import os\n",
    "import numpy as np\n",
    "\n",
    "# Detect landmarks\n",
    "import mediapipe as mp\n",
    "\n",
    "# Model training\n",
    "from sklearn.model_selection import train_test_split\n",
    "from keras.utils import to_categorical\n",
    "from keras.models import Sequential\n",
    "from keras.layers import LSTM, Dense"
   ]
  },
  {
   "cell_type": "markdown",
   "id": "3ed6b98d",
   "metadata": {},
   "source": [
    "### Paths and Global variables"
   ]
  },
  {
   "cell_type": "code",
   "execution_count": 2,
   "id": "fe5a02b9",
   "metadata": {},
   "outputs": [],
   "source": [
    "mediapipe_model_path = 'Saved_models/hand_landmarker.task'\n",
    "\n",
    "mp_drawing = mp.solutions.drawing_utils\n",
    "mp_drawing_styles = mp.solutions.drawing_styles\n",
    "mp_hands = mp.solutions.hands"
   ]
  },
  {
   "cell_type": "markdown",
   "id": "0b32c7f7",
   "metadata": {},
   "source": [
    "## Helper Funcions"
   ]
  },
  {
   "cell_type": "markdown",
   "id": "560b68f7",
   "metadata": {},
   "source": [
    "Hand landmark detection from image "
   ]
  },
  {
   "cell_type": "code",
   "execution_count": 3,
   "id": "e1f79f8b",
   "metadata": {},
   "outputs": [],
   "source": [
    "def mediapipe_detection(image, model):\n",
    "    image = cv2.cvtColor(image, cv2.COLOR_BGR2RGB) # COLOR CONVERSION BGR 2 RGB\n",
    "    image.flags.writeable = False                  # Image is no longer writeable\n",
    "    results = model.process(image)                 # Make prediction\n",
    "    image.flags.writeable = True                   # Image is now writeable \n",
    "    image = cv2.cvtColor(image, cv2.COLOR_RGB2BGR) # COLOR COVERSION RGB 2 BGR\n",
    "    return image, results"
   ]
  },
  {
   "cell_type": "markdown",
   "id": "208a08bf",
   "metadata": {},
   "source": [
    "Draw the detected landmarks on input image"
   ]
  },
  {
   "cell_type": "code",
   "execution_count": 4,
   "id": "ec5278f4",
   "metadata": {},
   "outputs": [],
   "source": [
    "def draw_styled_landmarks(image, results):\n",
    "    if results.multi_hand_landmarks:\n",
    "      for hand_landmarks in results.multi_hand_landmarks:\n",
    "        mp_drawing.draw_landmarks(\n",
    "            image,\n",
    "            hand_landmarks,\n",
    "            mp_hands.HAND_CONNECTIONS,\n",
    "            mp_drawing_styles.get_default_hand_landmarks_style(),\n",
    "            mp_drawing_styles.get_default_hand_connections_style())"
   ]
  },
  {
   "cell_type": "markdown",
   "id": "8633c801",
   "metadata": {},
   "source": [
    "Extract landmark keypoints form complete landmark results"
   ]
  },
  {
   "cell_type": "code",
   "execution_count": 5,
   "id": "cebb4a1b",
   "metadata": {},
   "outputs": [],
   "source": [
    "def extract_keypoints(results):\n",
    "    if results.multi_hand_landmarks:\n",
    "      for hand_landmarks in results.multi_hand_landmarks:\n",
    "        rh = np.array([[res.x, res.y, res.z] for res in hand_landmarks.landmark]).flatten() if hand_landmarks else np.zeros(21*3)\n",
    "        return(np.concatenate([rh]))"
   ]
  },
  {
   "cell_type": "markdown",
   "id": "0d3bda37",
   "metadata": {},
   "source": [
    "# 2. LOAD DATA"
   ]
  },
  {
   "cell_type": "markdown",
   "id": "3e87f37c",
   "metadata": {},
   "source": [
    "### Global Variables"
   ]
  },
  {
   "cell_type": "code",
   "execution_count": 10,
   "id": "45ee3942",
   "metadata": {},
   "outputs": [],
   "source": [
    "DATA_PATH = os.path.join('MP_Data') \n",
    "\n",
    "classes = ['A', 'B', 'C', 'D', 'E', 'F', 'G', 'H', 'I', 'J', 'K', \n",
    "           'L', 'M', 'N', 'O', 'P', 'Q', 'R', 'S', 'T', 'U', 'V', \n",
    "           'W', 'X', 'Y', 'Z', 'del', 'nothing', 'space']\n",
    "\n",
    "classes = np.array(classes)\n",
    "\n",
    "no_sequences = 30\n",
    "\n",
    "sequence_length = 30\n",
    "\n",
    "train_dir = 'Data/asl_alphabet_train'\n",
    "test_dir = 'Data/asl_alphabet_test'"
   ]
  },
  {
   "cell_type": "markdown",
   "id": "b0d30c55",
   "metadata": {},
   "source": [
    "### Make directory for landmark data"
   ]
  },
  {
   "cell_type": "code",
   "execution_count": 12,
   "id": "175cc25c",
   "metadata": {},
   "outputs": [],
   "source": [
    "for char in classes: \n",
    "    for sequence in range(no_sequences):\n",
    "        try: \n",
    "            os.makedirs(os.path.join(DATA_PATH, char, str(sequence)))\n",
    "        except:\n",
    "            pass"
   ]
  },
  {
   "cell_type": "markdown",
   "id": "5f9c7660",
   "metadata": {},
   "source": [
    "### Convert img to landmarks"
   ]
  },
  {
   "cell_type": "code",
   "execution_count": null,
   "id": "9df2c9fc",
   "metadata": {},
   "outputs": [],
   "source": [
    "with mp_hands.Hands(model_complexity=0, min_detection_confidence=0.5,min_tracking_confidence=0.5) as hands:\n",
    "    # Loop through classes\n",
    "    for action in actions:\n",
    "        for sequence in range(no_sequences):# Loop through sequences aka videos\n",
    "            # Loop through video length aka sequence length\n",
    "            for frame_num in range(sequence_length):\n",
    "\n",
    "                # Read feed\n",
    "                # ret, frame = cap.read()\n",
    "                frame=cv2.imread('Image/{}/{}.png'.format(action,sequence))\n",
    "                # frame=cv2.imread('{}{}.png'.format(action,sequence))\n",
    "                # frame=cv2.cvtColor(frame,cv2.COLOR_BGR2GRAY)\n",
    "\n",
    "                # Make detections\n",
    "                image, results = mediapipe_detection(frame, hands)\n",
    "#                 print(results)\n",
    "\n",
    "                # Draw landmarks\n",
    "                draw_styled_landmarks(image, results)\n",
    "                \n",
    "                # NEW Apply wait logic\n",
    "                if frame_num == 0:\n",
    "                    cv2.putText(image, 'STARTING COLLECTION', (120,200), \n",
    "                               cv2.FONT_HERSHEY_SIMPLEX, 1, (0,255, 0), 4, cv2.LINE_AA)\n",
    "                    cv2.putText(image, 'Collecting frames for {} Video Number {}'.format(action, sequence), (15,12), \n",
    "                               cv2.FONT_HERSHEY_SIMPLEX, 0.5, (0, 0, 255), 1, cv2.LINE_AA)\n",
    "                    # Show to screen\n",
    "                    cv2.imshow('OpenCV Feed', image)\n",
    "                    cv2.waitKey(200)\n",
    "                else: \n",
    "                    cv2.putText(image, 'Collecting frames for {} Video Number {}'.format(action, sequence), (15,12), \n",
    "                               cv2.FONT_HERSHEY_SIMPLEX, 0.5, (0, 0, 255), 1, cv2.LINE_AA)\n",
    "                    # Show to screen\n",
    "                    cv2.imshow('OpenCV Feed', image)\n",
    "                \n",
    "                # NEW Export keypoints\n",
    "                keypoints = extract_keypoints(results)\n",
    "                npy_path = os.path.join(DATA_PATH, action, str(sequence), str(frame_num))\n",
    "                np.save(npy_path, keypoints)\n",
    "\n",
    "                # Break gracefully\n",
    "                if cv2.waitKey(10) & 0xFF == ord('q'):\n",
    "                    break\n",
    "                    \n",
    "    # cap.release()\n",
    "    cv2.destroyAllWindows()"
   ]
  }
 ],
 "metadata": {
  "kernelspec": {
   "display_name": "Python 3 (ipykernel)",
   "language": "python",
   "name": "python3"
  },
  "language_info": {
   "codemirror_mode": {
    "name": "ipython",
    "version": 3
   },
   "file_extension": ".py",
   "mimetype": "text/x-python",
   "name": "python",
   "nbconvert_exporter": "python",
   "pygments_lexer": "ipython3",
   "version": "3.10.6"
  }
 },
 "nbformat": 4,
 "nbformat_minor": 5
}
