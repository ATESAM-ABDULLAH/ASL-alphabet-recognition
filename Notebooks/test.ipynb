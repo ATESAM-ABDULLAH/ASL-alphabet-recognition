{
 "cells": [
  {
   "cell_type": "code",
   "execution_count": 2,
   "id": "9a8bb6f7",
   "metadata": {},
   "outputs": [
    {
     "name": "stderr",
     "output_type": "stream",
     "text": [
      "2023-05-02 21:15:52.447149: I tensorflow/tsl/cuda/cudart_stub.cc:28] Could not find cuda drivers on your machine, GPU will not be used.\n",
      "2023-05-02 21:15:57.482510: I tensorflow/tsl/cuda/cudart_stub.cc:28] Could not find cuda drivers on your machine, GPU will not be used.\n",
      "2023-05-02 21:15:57.496307: I tensorflow/core/platform/cpu_feature_guard.cc:182] This TensorFlow binary is optimized to use available CPU instructions in performance-critical operations.\n",
      "To enable the following instructions: AVX2 FMA, in other operations, rebuild TensorFlow with the appropriate compiler flags.\n",
      "2023-05-02 21:16:10.515445: W tensorflow/compiler/tf2tensorrt/utils/py_utils.cc:38] TF-TRT Warning: Could not find TensorRT\n"
     ]
    }
   ],
   "source": [
    "import tensorflow as tf\n",
    "import cv2\n",
    "import numpy as np"
   ]
  },
  {
   "cell_type": "code",
   "execution_count": 8,
   "id": "82107c5e",
   "metadata": {},
   "outputs": [
    {
     "name": "stdout",
     "output_type": "stream",
     "text": [
      "(1, 32, 32, 3)\n",
      "1/1 [==============================] - 0s 26ms/step\n",
      "[[1.9972109e-26 0.0000000e+00 0.0000000e+00 0.0000000e+00 5.7167271e-38\n",
      "  2.0005995e-23 9.6507525e-16 0.0000000e+00 0.0000000e+00 3.1485511e-37\n",
      "  0.0000000e+00 1.0000000e+00 5.3550296e-29 0.0000000e+00 0.0000000e+00\n",
      "  0.0000000e+00 1.8033804e-33 0.0000000e+00 0.0000000e+00 0.0000000e+00\n",
      "  0.0000000e+00 0.0000000e+00 0.0000000e+00 0.0000000e+00 0.0000000e+00\n",
      "  1.6090671e-30 0.0000000e+00 8.6702742e-38 0.0000000e+00]]\n",
      "11\n"
     ]
    }
   ],
   "source": [
    "# model = tf.keras.models.load_model('Model/Modelv1_sm')\n",
    "# model.summary()\n",
    "\n",
    "img = cv2.imread(\"archive/asl_alphabet_test/B_test.jpg\")\n",
    "img = cv2.resize(img, (32, 32))\n",
    "\n",
    "np_X = np.array(img)\n",
    "normalised_X = np_X.astype('float32')/255.0\n",
    "normalised_X = np.expand_dims(normalised_X,0)\n",
    "print(normalised_X.shape)\n",
    "\n",
    "x = model.predict(normalised_X)\n",
    "print(x)\n",
    "print(np.argmax(x))"
   ]
  }
 ],
 "metadata": {
  "kernelspec": {
   "display_name": "Python 3 (ipykernel)",
   "language": "python",
   "name": "python3"
  },
  "language_info": {
   "codemirror_mode": {
    "name": "ipython",
    "version": 3
   },
   "file_extension": ".py",
   "mimetype": "text/x-python",
   "name": "python",
   "nbconvert_exporter": "python",
   "pygments_lexer": "ipython3",
   "version": "3.10.6"
  }
 },
 "nbformat": 4,
 "nbformat_minor": 5
}
